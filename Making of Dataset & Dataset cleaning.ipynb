{
 "cells": [
  {
   "cell_type": "code",
   "execution_count": 1,
   "metadata": {},
   "outputs": [],
   "source": [
    "import pandas as pd\n",
    "import numpy as np"
   ]
  },
  {
   "cell_type": "code",
   "execution_count": 2,
   "metadata": {},
   "outputs": [],
   "source": [
    "#######################--------GIVEN---------############################"
   ]
  },
  {
   "cell_type": "code",
   "execution_count": 3,
   "metadata": {},
   "outputs": [
    {
     "name": "stdout",
     "output_type": "stream",
     "text": [
      "               gid                               pid               cid  \\\n",
      "0  117291968282998  117291968282998_1219433751402142  1219543508057833   \n",
      "1  117291968282998  117291968282998_1219433751402142  1219543508057833   \n",
      "2  117291968282998  117291968282998_1219433751402142  1219565831388934   \n",
      "3  117291968282998  117291968282998_1219433751402142  1219610008051183   \n",
      "4  117291968282998  117291968282998_1217805638231620  1217806108231573   \n",
      "\n",
      "             timeStamp                 id                    name  \\\n",
      "0  2016-06-03 20:06:42   1066539990059879          Julie Brissett   \n",
      "1  2016-06-03 21:31:56   1066539990059879          Julie Brissett   \n",
      "2  2016-06-03 21:00:11  10210591844571055  Tracy Karfunkle Werner   \n",
      "3  2016-06-03 22:41:32   1613040562360170            Susan Gimbel   \n",
      "4  2016-06-01 01:00:10  10104267024969633        Gabrielle Joella   \n",
      "\n",
      "            rid                                                msg  \n",
      "0           NaN  Michelle Bernstein - maybe try posting on the ...  \n",
      "1  1.021047e+16   Thank you!  I didn{APOST}t know about that page.  \n",
      "2           NaN                                        Emma Werner  \n",
      "3           NaN  Definitely interested! ! Please PMme{COMMA} I ...  \n",
      "4           NaN  I read a headline the other day that said it{A...  \n",
      "4786\n"
     ]
    }
   ],
   "source": [
    "############-------------COMMENT------------############\n",
    "comment=pd.read_csv(\"comment.csv\")\n",
    "print(comment.head())\n",
    "print(len(comment.id.unique()))"
   ]
  },
  {
   "cell_type": "code",
   "execution_count": 4,
   "metadata": {},
   "outputs": [],
   "source": [
    "comment.drop([ 'gid', 'timeStamp', 'name', 'rid', 'msg','cid'],axis=1,inplace=True)"
   ]
  },
  {
   "cell_type": "code",
   "execution_count": 5,
   "metadata": {},
   "outputs": [
    {
     "name": "stdout",
     "output_type": "stream",
     "text": [
      "(140856, 2)\n",
      "                                pid                 id\n",
      "0  117291968282998_1219433751402142   1066539990059879\n",
      "1  117291968282998_1219433751402142   1066539990059879\n",
      "2  117291968282998_1219433751402142  10210591844571055\n",
      "3  117291968282998_1219433751402142   1613040562360170\n",
      "4  117291968282998_1217805638231620  10104267024969633\n",
      "                     id\n",
      "10206899384951720  2126\n",
      "10207388892348282  1905\n",
      "1106233022781955   1632\n",
      "10209855645778603  1597\n",
      "10206961394375717  1451\n",
      "(4786, 1)\n"
     ]
    }
   ],
   "source": [
    "print(comment.shape)\n",
    "print(comment.head())\n",
    "comment_count=pd.DataFrame(comment.id.value_counts())\n",
    "print(comment_count.head())\n",
    "print(comment_count.shape)"
   ]
  },
  {
   "cell_type": "code",
   "execution_count": 6,
   "metadata": {},
   "outputs": [],
   "source": [
    "comment_count.columns = [ 'comment_given']\n",
    "comment_count['id'] = comment_count.index\n",
    "comment_count.reset_index(drop=True,inplace=True)\n"
   ]
  },
  {
   "cell_type": "code",
   "execution_count": 7,
   "metadata": {},
   "outputs": [
    {
     "name": "stdout",
     "output_type": "stream",
     "text": [
      "   comment_given                 id\n",
      "0           2126  10206899384951720\n",
      "1           1905  10207388892348282\n",
      "2           1632   1106233022781955\n",
      "3           1597  10209855645778603\n",
      "4           1451  10206961394375717\n",
      "       comment_given            id\n",
      "count    4786.000000  4.786000e+03\n",
      "mean       29.430840  7.672766e+15\n",
      "std        92.064422  4.062209e+15\n",
      "min         1.000000  5.034422e+11\n",
      "25%         2.000000  1.766920e+15\n",
      "50%         7.000000  1.015516e+16\n",
      "75%        23.000000  1.020913e+16\n",
      "max      2126.000000  1.021615e+16\n"
     ]
    }
   ],
   "source": [
    "print(comment_count.head())\n",
    "print(comment_count.describe())"
   ]
  },
  {
   "cell_type": "code",
   "execution_count": 8,
   "metadata": {},
   "outputs": [
    {
     "name": "stdout",
     "output_type": "stream",
     "text": [
      "(243820, 6)\n",
      "8889\n"
     ]
    }
   ],
   "source": [
    "############-------------LIKE------------############\n",
    "like=pd.read_csv(\"like.csv\")\n",
    "print(like.shape)\n",
    "like.drop([ 'gid', 'name','cid'],axis=1,inplace=True)\n",
    "print(len(like.id.unique()))"
   ]
  },
  {
   "cell_type": "code",
   "execution_count": 9,
   "metadata": {},
   "outputs": [
    {
     "name": "stdout",
     "output_type": "stream",
     "text": [
      "                                pid response                 id\n",
      "0  117291968282998_1219433751402142     LIKE  10154448285151584\n",
      "1  117291968282998_1219433751402142     LIKE  10210591844571055\n",
      "2  117291968282998_1219433751402142     LIKE  10154722839648676\n",
      "3  117291968282998_1219433751402142    LIKES  10210474998334559\n",
      "4  117291968282998_1219561324722718     LIKE  10210189704765695\n"
     ]
    }
   ],
   "source": [
    "print(like.head())"
   ]
  },
  {
   "cell_type": "code",
   "execution_count": 10,
   "metadata": {},
   "outputs": [
    {
     "name": "stdout",
     "output_type": "stream",
     "text": [
      "['LIKE' 'LIKES' 'LOVE' 'SAD' 'ANGRY' 'WOW' 'HAHA' 'THANKFUL']\n"
     ]
    }
   ],
   "source": [
    "print(like['response'].unique())"
   ]
  },
  {
   "cell_type": "code",
   "execution_count": 11,
   "metadata": {},
   "outputs": [
    {
     "name": "stdout",
     "output_type": "stream",
     "text": [
      "                                pid response                 id\n",
      "0  117291968282998_1219433751402142     LIKE  10154448285151584\n",
      "1  117291968282998_1219433751402142     LIKE  10210591844571055\n",
      "2  117291968282998_1219433751402142     LIKE  10154722839648676\n",
      "3  117291968282998_1219433751402142     LIKE  10210474998334559\n",
      "4  117291968282998_1219561324722718     LIKE  10210189704765695\n"
     ]
    }
   ],
   "source": [
    "#like.loc[like['response'] =='LIKE']\n",
    "like['response'].replace(['LIKES', 'LOVE','WOW','HAHA','THANKFUL'], ['LIKE','LIKE','LIKE','LIKE','LIKE'],inplace=True)\n",
    "like['response'].replace(['SAD','ANGRY'], ['DISLIKE','DISLIKE'],inplace=True)\n",
    "print(like.head())\n"
   ]
  },
  {
   "cell_type": "code",
   "execution_count": 12,
   "metadata": {},
   "outputs": [
    {
     "name": "stdout",
     "output_type": "stream",
     "text": [
      "['LIKE' 'DISLIKE']\n"
     ]
    }
   ],
   "source": [
    "print(like['response'].unique())"
   ]
  },
  {
   "cell_type": "code",
   "execution_count": 13,
   "metadata": {},
   "outputs": [
    {
     "name": "stdout",
     "output_type": "stream",
     "text": [
      "                                pid response                 id\n",
      "0  117291968282998_1219433751402142     LIKE  10154448285151584\n",
      "1  117291968282998_1219433751402142     LIKE  10210591844571055\n",
      "2  117291968282998_1219433751402142     LIKE  10154722839648676\n",
      "3  117291968282998_1219433751402142     LIKE  10210474998334559\n",
      "4  117291968282998_1219561324722718     LIKE  10210189704765695\n",
      "['LIKE']\n",
      "   like_given                 id\n",
      "0        2931  10207388892348282\n",
      "1        2495  10154448285151584\n",
      "2        2112  10209855645778603\n",
      "3        1927  10154392131864666\n",
      "4        1516  10209169895278863\n",
      "(8805, 2)\n"
     ]
    }
   ],
   "source": [
    "like_count=pd.DataFrame(like.loc[like['response'] =='LIKE'])\n",
    "print(like_count.head())\n",
    "print(like_count['response'].unique())\n",
    "like_count=pd.DataFrame(like_count.id.value_counts())\n",
    "#print(like_count.head())\n",
    "like_count.columns = [ 'like_given']\n",
    "like_count['id'] = like_count.index\n",
    "like_count.reset_index(drop=True,inplace=True)\n",
    "print(like_count.head())\n",
    "print(like_count.shape)"
   ]
  },
  {
   "cell_type": "code",
   "execution_count": null,
   "metadata": {},
   "outputs": [],
   "source": []
  },
  {
   "cell_type": "code",
   "execution_count": 14,
   "metadata": {},
   "outputs": [
    {
     "name": "stdout",
     "output_type": "stream",
     "text": [
      "   dislike_given                 id\n",
      "0             48  10202202157570703\n",
      "1             39    876491465816148\n",
      "2             38    625927557576246\n",
      "3             34    621439068037373\n",
      "4             31   1327090850739879\n",
      "(1260, 2)\n"
     ]
    }
   ],
   "source": [
    "dislike_count=pd.DataFrame(like.loc[like['response'] =='DISLIKE'])\n",
    "dislike_count=pd.DataFrame(dislike_count.id.value_counts())\n",
    "#print(dislike_count.head())\n",
    "dislike_count.columns = [ 'dislike_given']\n",
    "dislike_count['id'] = dislike_count.index\n",
    "dislike_count.reset_index(drop=True,inplace=True)\n",
    "print(dislike_count.head())\n",
    "print(dislike_count.shape)"
   ]
  },
  {
   "cell_type": "code",
   "execution_count": 15,
   "metadata": {},
   "outputs": [],
   "source": [
    "like_dislike = pd.merge(dislike_count,like_count,on= 'id')"
   ]
  },
  {
   "cell_type": "code",
   "execution_count": 16,
   "metadata": {},
   "outputs": [
    {
     "name": "stdout",
     "output_type": "stream",
     "text": [
      "   dislike_given                 id  like_given\n",
      "0             48  10202202157570703         457\n",
      "1             39    876491465816148         573\n",
      "2             38    625927557576246         386\n",
      "3             34    621439068037373         430\n",
      "4             31   1327090850739879         310\n"
     ]
    }
   ],
   "source": [
    "print(like_dislike.head())"
   ]
  },
  {
   "cell_type": "code",
   "execution_count": 17,
   "metadata": {},
   "outputs": [
    {
     "name": "stdout",
     "output_type": "stream",
     "text": [
      "2834\n"
     ]
    }
   ],
   "source": [
    "################-------------Post------------#################\n",
    "post=pd.read_csv(\"post.csv\")\n",
    "print(len(post.id.unique()))"
   ]
  },
  {
   "cell_type": "code",
   "execution_count": 18,
   "metadata": {},
   "outputs": [
    {
     "name": "stdout",
     "output_type": "stream",
     "text": [
      "Index(['gid', 'pid', 'id', 'name', 'timeStamp', 'shares', 'url', 'msg',\n",
      "       'likes'],\n",
      "      dtype='object')\n"
     ]
    }
   ],
   "source": [
    "print(post.columns)\n",
    "post.drop(['gid', 'name', 'timeStamp', 'shares', 'url', 'msg','likes'],axis=1,inplace=True)"
   ]
  },
  {
   "cell_type": "code",
   "execution_count": 19,
   "metadata": {},
   "outputs": [
    {
     "name": "stdout",
     "output_type": "stream",
     "text": [
      "                                pid                 id\n",
      "0  117291968282998_1217805638231620  10100194059447241\n",
      "1  117291968282998_1218917638120420   1252648581426608\n",
      "2  117291968282998_1218963568115827  10154487807879363\n",
      "3  117291968282998_1218942504784600  10210234991020685\n",
      "4  117291968282998_1218373681508149  10154402660964805\n"
     ]
    }
   ],
   "source": [
    "print(post.head())"
   ]
  },
  {
   "cell_type": "code",
   "execution_count": 20,
   "metadata": {},
   "outputs": [],
   "source": [
    "post_count=pd.DataFrame(post.id.value_counts())"
   ]
  },
  {
   "cell_type": "code",
   "execution_count": 21,
   "metadata": {},
   "outputs": [
    {
     "name": "stdout",
     "output_type": "stream",
     "text": [
      "   post_given                 id\n",
      "0         672  10207388892348282\n",
      "1         272  10154433088490909\n",
      "2         269  10154432118844644\n",
      "3         234  10210392981848792\n",
      "4         203  10153769956171623\n",
      "(2834, 2)\n"
     ]
    }
   ],
   "source": [
    "post_count.columns = [ 'post_given']\n",
    "post_count['id'] = post_count.index\n",
    "post_count.reset_index(drop=True,inplace=True)\n",
    "print(post_count.head())\n",
    "print(post_count.shape)"
   ]
  },
  {
   "cell_type": "code",
   "execution_count": 22,
   "metadata": {},
   "outputs": [],
   "source": [
    "###########################-------TAKEN-------###############################"
   ]
  },
  {
   "cell_type": "code",
   "execution_count": 23,
   "metadata": {},
   "outputs": [],
   "source": [
    "######---------COMMENT--------#######"
   ]
  },
  {
   "cell_type": "code",
   "execution_count": 24,
   "metadata": {},
   "outputs": [
    {
     "name": "stdout",
     "output_type": "stream",
     "text": [
      "                                pid                 id\n",
      "0  117291968282998_1219433751402142   1066539990059879\n",
      "1  117291968282998_1219433751402142   1066539990059879\n",
      "2  117291968282998_1219433751402142  10210591844571055\n",
      "3  117291968282998_1219433751402142   1613040562360170\n",
      "4  117291968282998_1217805638231620  10104267024969633\n"
     ]
    }
   ],
   "source": [
    "print(comment.head())"
   ]
  },
  {
   "cell_type": "code",
   "execution_count": 25,
   "metadata": {},
   "outputs": [],
   "source": [
    "comment_got_count=pd.DataFrame(comment.pid.value_counts())"
   ]
  },
  {
   "cell_type": "code",
   "execution_count": 26,
   "metadata": {},
   "outputs": [],
   "source": [
    "comment_got_count.columns = [ 'comments_got']\n",
    "comment_got_count['pid'] = comment_got_count.index\n",
    "comment_got_count.reset_index(drop=True,inplace=True)"
   ]
  },
  {
   "cell_type": "code",
   "execution_count": 27,
   "metadata": {},
   "outputs": [
    {
     "name": "stdout",
     "output_type": "stream",
     "text": [
      "   comments_got                                pid\n",
      "0           412   117291968282998_1639804789365034\n",
      "1           353   117291968282998_1900001193345391\n",
      "2           302      25160801076_10153463435136077\n",
      "3           293   117291968282998_1865350796810431\n",
      "4           286  1443890352589739_1832816097030494\n",
      "(12874, 2)\n",
      "                                pid                 id  comments_got\n",
      "0  117291968282998_1219433751402142   1066539990059879             4\n",
      "1  117291968282998_1219433751402142   1066539990059879             4\n",
      "2  117291968282998_1219433751402142  10210591844571055             4\n",
      "3  117291968282998_1219433751402142   1613040562360170             4\n",
      "4  117291968282998_1217805638231620  10104267024969633            51\n",
      "(140856, 3)\n",
      "4786\n"
     ]
    }
   ],
   "source": [
    "print(comment_got_count.head())\n",
    "print(comment_got_count.shape)\n",
    "comment_got_count =pd.merge(comment,comment_got_count,on= ['pid'])\n",
    "print(comment_got_count.head())\n",
    "print(comment_got_count.shape)\n",
    "print(len(comment_got_count.id.unique()))"
   ]
  },
  {
   "cell_type": "code",
   "execution_count": 28,
   "metadata": {},
   "outputs": [],
   "source": [
    "######---------LIKE--------#######"
   ]
  },
  {
   "cell_type": "code",
   "execution_count": 29,
   "metadata": {},
   "outputs": [
    {
     "name": "stdout",
     "output_type": "stream",
     "text": [
      "                                pid response                 id\n",
      "0  117291968282998_1219433751402142     LIKE  10154448285151584\n",
      "1  117291968282998_1219433751402142     LIKE  10210591844571055\n",
      "2  117291968282998_1219433751402142     LIKE  10154722839648676\n",
      "3  117291968282998_1219433751402142     LIKE  10210474998334559\n",
      "4  117291968282998_1219561324722718     LIKE  10210189704765695\n",
      "['LIKE' 'DISLIKE']\n"
     ]
    }
   ],
   "source": [
    "print(like.head())\n",
    "print(like['response'].unique())\n"
   ]
  },
  {
   "cell_type": "code",
   "execution_count": 30,
   "metadata": {},
   "outputs": [
    {
     "name": "stdout",
     "output_type": "stream",
     "text": [
      "                                pid response                 id\n",
      "0  117291968282998_1219433751402142     LIKE  10154448285151584\n",
      "1  117291968282998_1219433751402142     LIKE  10210591844571055\n",
      "2  117291968282998_1219433751402142     LIKE  10154722839648676\n",
      "3  117291968282998_1219433751402142     LIKE  10210474998334559\n",
      "4  117291968282998_1219561324722718     LIKE  10210189704765695\n"
     ]
    }
   ],
   "source": [
    "like_got_count=pd.DataFrame(like.loc[like['response'] =='LIKE'])\n",
    "print(like_got_count.head())"
   ]
  },
  {
   "cell_type": "code",
   "execution_count": 31,
   "metadata": {},
   "outputs": [
    {
     "name": "stdout",
     "output_type": "stream",
     "text": [
      "   like_got                               pid\n",
      "0       976  117291968282998_1900001193345391\n",
      "1       629     25160801076_10153397178591077\n",
      "2       533     25160801076_10153355370411077\n",
      "3       515  117291968282998_1132242500121268\n",
      "4       508   117291968282998_932797456732441\n",
      "                                pid                 id  like_got\n",
      "0  117291968282998_1219433751402142   1066539990059879         4\n",
      "1  117291968282998_1219433751402142   1066539990059879         4\n",
      "2  117291968282998_1219433751402142  10210591844571055         4\n",
      "3  117291968282998_1219433751402142   1613040562360170         4\n",
      "4  117291968282998_1217805638231620  10104267024969633        36\n"
     ]
    }
   ],
   "source": [
    "like_got_count=pd.DataFrame(like_got_count.pid.value_counts())\n",
    "#print(like_count.head())\n",
    "like_got_count.columns = [ 'like_got']\n",
    "like_got_count['pid'] = like_got_count.index\n",
    "like_got_count.reset_index(drop=True,inplace=True)\n",
    "print(like_got_count.head())\n",
    "like_got_count =pd.merge(comment,like_got_count,on= 'pid')\n",
    "print(like_got_count.head())\n"
   ]
  },
  {
   "cell_type": "code",
   "execution_count": 32,
   "metadata": {},
   "outputs": [
    {
     "name": "stdout",
     "output_type": "stream",
     "text": [
      "4753\n",
      "                                  pid response                 id\n",
      "454  117291968282998_1216563638355820  DISLIKE  10208651627841146\n",
      "546  117291968282998_1213633375315513  DISLIKE  10157153416020468\n",
      "551  117291968282998_1213605085318342  DISLIKE  10210819723708369\n",
      "552  117291968282998_1213605085318342  DISLIKE   1137790542929687\n",
      "983  117291968282998_1219465774732273  DISLIKE  10154434640387049\n"
     ]
    }
   ],
   "source": [
    "print(len(like_got_count.id.unique()))\n",
    "dislike_got_count=pd.DataFrame(like.loc[like['response'] =='DISLIKE'])\n",
    "print(dislike_got_count.head())"
   ]
  },
  {
   "cell_type": "code",
   "execution_count": 33,
   "metadata": {},
   "outputs": [
    {
     "name": "stdout",
     "output_type": "stream",
     "text": [
      "   dislike_got                               pid\n",
      "0          215  117291968282998_1736850626327116\n",
      "1          213  117291968282998_1628264393852407\n",
      "2           98  117291968282998_1629096920435821\n",
      "3           88  117291968282998_1878233365522174\n",
      "4           50  117291968282998_1866690600009784\n",
      "                                pid                 id  dislike_got\n",
      "0  117291968282998_1216563638355820  10206998925078524            1\n",
      "1  117291968282998_1216563638355820   1053862331357687            1\n",
      "2  117291968282998_1216563638355820   1053862331357687            1\n",
      "3  117291968282998_1216563638355820   1053862331357687            1\n",
      "4  117291968282998_1216563638355820   1053862331357687            1\n"
     ]
    }
   ],
   "source": [
    "dislike_got_count=pd.DataFrame(dislike_got_count.pid.value_counts())\n",
    "#print(like_count.head())\n",
    "dislike_got_count.columns = [ 'dislike_got']\n",
    "dislike_got_count['pid'] = dislike_got_count.index\n",
    "dislike_got_count.reset_index(drop=True,inplace=True)\n",
    "print(dislike_got_count.head())\n",
    "dislike_got_count =pd.merge(comment,dislike_got_count,on= 'pid')\n",
    "print(dislike_got_count.head())"
   ]
  },
  {
   "cell_type": "code",
   "execution_count": 34,
   "metadata": {},
   "outputs": [],
   "source": [
    "dislike_got_count.drop_duplicates(keep=False,inplace=True)"
   ]
  },
  {
   "cell_type": "code",
   "execution_count": 35,
   "metadata": {},
   "outputs": [
    {
     "name": "stdout",
     "output_type": "stream",
     "text": [
      "                                 pid                 id  dislike_got\n",
      "0   117291968282998_1216563638355820  10206998925078524            1\n",
      "10  117291968282998_1216563638355820  10209747021261169            1\n",
      "13  117291968282998_1216563638355820  10153588492270672            1\n",
      "25  117291968282998_1216563638355820  10208823784345685            1\n",
      "31  117291968282998_1213633375315513   1182802231780706            1\n"
     ]
    }
   ],
   "source": [
    "print(dislike_got_count.head())"
   ]
  },
  {
   "cell_type": "code",
   "execution_count": 36,
   "metadata": {},
   "outputs": [],
   "source": [
    "like_got_count.drop_duplicates(keep=False,inplace=True)"
   ]
  },
  {
   "cell_type": "code",
   "execution_count": 37,
   "metadata": {},
   "outputs": [
    {
     "name": "stdout",
     "output_type": "stream",
     "text": [
      "                                pid                 id  like_got\n",
      "2  117291968282998_1219433751402142  10210591844571055         4\n",
      "3  117291968282998_1219433751402142   1613040562360170         4\n",
      "4  117291968282998_1217805638231620  10104267024969633        36\n",
      "5  117291968282998_1217805638231620  10209169895278863        36\n",
      "9  117291968282998_1217805638231620  10153799679380098        36\n"
     ]
    }
   ],
   "source": [
    "print(like_got_count.head())"
   ]
  },
  {
   "cell_type": "code",
   "execution_count": 38,
   "metadata": {},
   "outputs": [],
   "source": [
    "comment_got_count.drop_duplicates(keep=False,inplace=True)"
   ]
  },
  {
   "cell_type": "code",
   "execution_count": 39,
   "metadata": {},
   "outputs": [
    {
     "name": "stdout",
     "output_type": "stream",
     "text": [
      "                                pid                 id  comments_got\n",
      "2  117291968282998_1219433751402142  10210591844571055             4\n",
      "3  117291968282998_1219433751402142   1613040562360170             4\n",
      "4  117291968282998_1217805638231620  10104267024969633            51\n",
      "5  117291968282998_1217805638231620  10209169895278863            51\n",
      "9  117291968282998_1217805638231620  10153799679380098            51\n"
     ]
    }
   ],
   "source": [
    "print(comment_got_count.head())"
   ]
  },
  {
   "cell_type": "code",
   "execution_count": 40,
   "metadata": {},
   "outputs": [],
   "source": [
    "like_dislike_got = pd.merge(dislike_got_count,like_got_count,on= ['pid','id'])"
   ]
  },
  {
   "cell_type": "code",
   "execution_count": 41,
   "metadata": {},
   "outputs": [
    {
     "name": "stdout",
     "output_type": "stream",
     "text": [
      "                                pid                 id  dislike_got  like_got\n",
      "0  117291968282998_1216563638355820  10206998925078524            1        11\n",
      "1  117291968282998_1216563638355820  10209747021261169            1        11\n",
      "2  117291968282998_1216563638355820  10153588492270672            1        11\n",
      "3  117291968282998_1216563638355820  10208823784345685            1        11\n",
      "4  117291968282998_1213633375315513   1182802231780706            1         1\n"
     ]
    }
   ],
   "source": [
    "print(like_dislike_got.head())"
   ]
  },
  {
   "cell_type": "code",
   "execution_count": 42,
   "metadata": {},
   "outputs": [],
   "source": [
    "############----------GOT-MERGER-----------#############"
   ]
  },
  {
   "cell_type": "code",
   "execution_count": 43,
   "metadata": {},
   "outputs": [],
   "source": [
    "like_dislike_got = pd.merge(like_dislike_got,comment_got_count,on= ['pid','id'])"
   ]
  },
  {
   "cell_type": "code",
   "execution_count": 44,
   "metadata": {},
   "outputs": [
    {
     "name": "stdout",
     "output_type": "stream",
     "text": [
      "                                pid                 id  dislike_got  like_got  \\\n",
      "0  117291968282998_1216563638355820  10206998925078524            1        11   \n",
      "1  117291968282998_1216563638355820  10209747021261169            1        11   \n",
      "2  117291968282998_1216563638355820  10153588492270672            1        11   \n",
      "3  117291968282998_1216563638355820  10208823784345685            1        11   \n",
      "4  117291968282998_1213633375315513   1182802231780706            1         1   \n",
      "\n",
      "   comments_got  \n",
      "0            26  \n",
      "1            26  \n",
      "2            26  \n",
      "3            26  \n",
      "4            10  \n",
      "1547\n"
     ]
    }
   ],
   "source": [
    "print(like_dislike_got.head())\n",
    "print(len(like_dislike_got.id.unique()))"
   ]
  },
  {
   "cell_type": "code",
   "execution_count": 45,
   "metadata": {},
   "outputs": [],
   "source": [
    "like_dislike_got.drop(['pid'],axis=1,inplace=True)"
   ]
  },
  {
   "cell_type": "code",
   "execution_count": 46,
   "metadata": {},
   "outputs": [
    {
     "name": "stdout",
     "output_type": "stream",
     "text": [
      "                  id  dislike_got  like_got  comments_got\n",
      "0  10206998925078524            1        11            26\n",
      "1  10209747021261169            1        11            26\n",
      "2  10153588492270672            1        11            26\n",
      "3  10208823784345685            1        11            26\n",
      "4   1182802231780706            1         1            10\n"
     ]
    }
   ],
   "source": [
    "print(like_dislike_got.head())"
   ]
  },
  {
   "cell_type": "code",
   "execution_count": 47,
   "metadata": {},
   "outputs": [],
   "source": [
    "like_dislike = pd.merge(like_dislike,post_count,on= 'id')"
   ]
  },
  {
   "cell_type": "code",
   "execution_count": 48,
   "metadata": {},
   "outputs": [
    {
     "name": "stdout",
     "output_type": "stream",
     "text": [
      "   dislike_given                 id  like_given  post_given\n",
      "0             48  10202202157570703         457          31\n",
      "1             39    876491465816148         573          22\n",
      "2             38    625927557576246         386          13\n",
      "3             34    621439068037373         430           8\n",
      "4             31   1327090850739879         310           3\n",
      "691\n"
     ]
    }
   ],
   "source": [
    "print(like_dislike.head())\n",
    "print(len(like_dislike.id.unique()))"
   ]
  },
  {
   "cell_type": "code",
   "execution_count": 49,
   "metadata": {},
   "outputs": [],
   "source": [
    "like_dislike = pd.merge(like_dislike,comment_count,on= 'id')"
   ]
  },
  {
   "cell_type": "code",
   "execution_count": 50,
   "metadata": {},
   "outputs": [
    {
     "name": "stdout",
     "output_type": "stream",
     "text": [
      "   dislike_given                 id  like_given  post_given  comment_given\n",
      "0             48  10202202157570703         457          31            266\n",
      "1             39    876491465816148         573          22            507\n",
      "2             38    625927557576246         386          13             42\n",
      "3             34    621439068037373         430           8             69\n",
      "4             31   1327090850739879         310           3             98\n",
      "680\n"
     ]
    }
   ],
   "source": [
    "print(like_dislike.head())\n",
    "print(len(like_dislike.id.unique()))"
   ]
  },
  {
   "cell_type": "code",
   "execution_count": 51,
   "metadata": {},
   "outputs": [],
   "source": [
    "dataset = pd.DataFrame(pd.merge(like_dislike,like_dislike_got,on= 'id'))"
   ]
  },
  {
   "cell_type": "code",
   "execution_count": 52,
   "metadata": {},
   "outputs": [
    {
     "name": "stdout",
     "output_type": "stream",
     "text": [
      "Index(['dislike_given', 'id', 'like_given', 'post_given', 'comment_given',\n",
      "       'dislike_got', 'like_got', 'comments_got'],\n",
      "      dtype='object')\n",
      "462\n"
     ]
    }
   ],
   "source": [
    "print(dataset.columns)\n",
    "print(len(dataset.id.unique()))"
   ]
  },
  {
   "cell_type": "code",
   "execution_count": 53,
   "metadata": {},
   "outputs": [],
   "source": [
    "dataset=dataset.groupby(['dislike_given', 'id', 'like_given', 'post_given', 'comment_given']).sum()\n",
    "dataset.reset_index( inplace=True)"
   ]
  },
  {
   "cell_type": "code",
   "execution_count": 54,
   "metadata": {},
   "outputs": [
    {
     "name": "stdout",
     "output_type": "stream",
     "text": [
      "(462, 8)\n",
      "462\n"
     ]
    }
   ],
   "source": [
    "print(dataset.shape)\n",
    "print(len(dataset.id.unique()))\n",
    "dataset=dataset.groupby([ 'id']).sum()\n",
    "dataset.reset_index( inplace=True)\n",
    "import numpy as np\n",
    "dataset['FR_got'] = np.random.randint(70, 200, dataset.shape[0])\n",
    "dataset['FR_allowed'] = np.random.randint(15, 70, dataset.shape[0])\n",
    "dataset['FR_send'] = np.random.randint(70, 200, dataset.shape[0])\n",
    "dataset['FR_accepted'] = np.random.randint(15, 70, dataset.shape[0])"
   ]
  },
  {
   "cell_type": "code",
   "execution_count": 55,
   "metadata": {},
   "outputs": [],
   "source": [
    "#dataset.to_csv(\"dataset.csv\")"
   ]
  },
  {
   "cell_type": "code",
   "execution_count": null,
   "metadata": {},
   "outputs": [],
   "source": []
  }
 ],
 "metadata": {
  "kernelspec": {
   "display_name": "Python 3",
   "language": "python",
   "name": "python3"
  },
  "language_info": {
   "codemirror_mode": {
    "name": "ipython",
    "version": 3
   },
   "file_extension": ".py",
   "mimetype": "text/x-python",
   "name": "python",
   "nbconvert_exporter": "python",
   "pygments_lexer": "ipython3",
   "version": "3.7.2"
  }
 },
 "nbformat": 4,
 "nbformat_minor": 2
}
