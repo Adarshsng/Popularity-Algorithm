{
 "cells": [
  {
   "cell_type": "code",
   "execution_count": 80,
   "metadata": {},
   "outputs": [],
   "source": [
    "import numpy as np\n",
    "import pandas as pd"
   ]
  },
  {
   "cell_type": "code",
   "execution_count": 81,
   "metadata": {},
   "outputs": [],
   "source": [
    "data=pd.read_csv(\"dataset.csv\")\n",
    "data.drop(['Unnamed: 0'],axis=1,inplace=True)"
   ]
  },
  {
   "cell_type": "code",
   "execution_count": 82,
   "metadata": {},
   "outputs": [
    {
     "name": "stdout",
     "output_type": "stream",
     "text": [
      "                id  dislike_given  like_given  post_given  comment_given  \\\n",
      "0     600713259593              7         243           8             91   \n",
      "1     660791208540             10         275           3             55   \n",
      "2     761834491936              1         105           1            186   \n",
      "3     826937429318              1          93           4             42   \n",
      "4     827039654412              2         204          32            110   \n",
      "5     941481412107              1          43           1             28   \n",
      "6     970542134341             13         263           3             27   \n",
      "7    1156118278335              1          18           4             28   \n",
      "8    1461194825071              3         136           3             12   \n",
      "9  106025446643853              1         125          14             29   \n",
      "\n",
      "   dislike_got  like_got  comments_got  FR_got  FR_allowed  FR_send  \\\n",
      "0           29       104            81      94          52      133   \n",
      "1            1       158           103     138          44      100   \n",
      "2           17       241           239     104          37      117   \n",
      "3          241       220           182     114          61      164   \n",
      "4            2       165           274     111          48      140   \n",
      "5            1       188           113      94          60      185   \n",
      "6           29        32            38     180          52      172   \n",
      "7           11       392           349     101          53      106   \n",
      "8            2       256           143     138          28      153   \n",
      "9           50       203            40      97          63      147   \n",
      "\n",
      "   FR_accepted  \n",
      "0           57  \n",
      "1           18  \n",
      "2           50  \n",
      "3           64  \n",
      "4           43  \n",
      "5           60  \n",
      "6           38  \n",
      "7           16  \n",
      "8           37  \n",
      "9           51  \n",
      "(462, 12)\n",
      "462\n"
     ]
    }
   ],
   "source": [
    "print(data.head(10))\n",
    "print(data.shape)\n",
    "print(len(data.id.unique()))"
   ]
  },
  {
   "cell_type": "code",
   "execution_count": 83,
   "metadata": {},
   "outputs": [],
   "source": [
    "data['like']=pd.Series(abs(data.like_got-data.like_given))            #Getting Like got and like given Diffrences\n",
    "data['comment']=pd.Series(abs(data.comments_got-data.comment_given))  #Getting Comments got and Comment given Diffrences\n",
    "data['dislike']=pd.Series(abs(data.dislike_got-data.dislike_given))   #Getting Dislike got and Dislike given Diffrences"
   ]
  },
  {
   "cell_type": "code",
   "execution_count": 84,
   "metadata": {},
   "outputs": [
    {
     "name": "stdout",
     "output_type": "stream",
     "text": [
      "Index(['id', 'post_given', 'FR_got', 'FR_allowed', 'FR_send', 'FR_accepted',\n",
      "       'like', 'comment', 'dislike'],\n",
      "      dtype='object')\n"
     ]
    }
   ],
   "source": [
    "data.drop([ 'like_given','comment_given',\n",
    "       'dislike_got', 'like_got', 'comments_got','dislike_given'],axis=1,inplace=True)\n",
    "print(data.columns)"
   ]
  },
  {
   "cell_type": "code",
   "execution_count": 85,
   "metadata": {},
   "outputs": [],
   "source": [
    "data['FR_allowed_%']  = data['FR_allowed'].div(data['FR_got'])*100      #Percentage of Friend Request Recieved\n",
    "data['FR_accepted_%']  = data['FR_accepted'].div(data['FR_send'])*100   #Percentage of Friend Request Sent and Got Accepted"
   ]
  },
  {
   "cell_type": "code",
   "execution_count": 86,
   "metadata": {},
   "outputs": [
    {
     "name": "stdout",
     "output_type": "stream",
     "text": [
      "                id  post_given  like  comment  dislike  FR_allowed_%  \\\n",
      "0     600713259593           8   139       10       22     55.319149   \n",
      "1     660791208540           3   117       48        9     31.884058   \n",
      "2     761834491936           1   136       53       16     35.576923   \n",
      "3     826937429318           4   127      140      240     53.508772   \n",
      "4     827039654412          32    39      164        0     43.243243   \n",
      "5     941481412107           1   145       85        0     63.829787   \n",
      "6     970542134341           3   231       11       16     28.888889   \n",
      "7    1156118278335           4   374      321       10     52.475248   \n",
      "8    1461194825071           3   120      131        1     20.289855   \n",
      "9  106025446643853          14    78       11       49     64.948454   \n",
      "\n",
      "   FR_accepted_%  \n",
      "0      42.857143  \n",
      "1      18.000000  \n",
      "2      42.735043  \n",
      "3      39.024390  \n",
      "4      30.714286  \n",
      "5      32.432432  \n",
      "6      22.093023  \n",
      "7      15.094340  \n",
      "8      24.183007  \n",
      "9      34.693878  \n"
     ]
    }
   ],
   "source": [
    "data.drop(['FR_got', 'FR_allowed', 'FR_send', 'FR_accepted'],axis=1,inplace=True)\n",
    "print(data.head(10))"
   ]
  },
  {
   "cell_type": "code",
   "execution_count": 87,
   "metadata": {},
   "outputs": [
    {
     "name": "stdout",
     "output_type": "stream",
     "text": [
      "                id  post_given  like  comment  dislike  FR_allowed_%  \\\n",
      "0     600713259593           8   139       10       22     55.319149   \n",
      "1     660791208540           3   117       48        9     31.884058   \n",
      "2     761834491936           1   136       53       16     35.576923   \n",
      "3     826937429318           4   127      140      240     53.508772   \n",
      "4     827039654412          32    39      164        0     43.243243   \n",
      "5     941481412107           1   145       85        0     63.829787   \n",
      "6     970542134341           3   231       11       16     28.888889   \n",
      "7    1156118278335           4   374      321       10     52.475248   \n",
      "8    1461194825071           3   120      131        1     20.289855   \n",
      "9  106025446643853          14    78       11       49     64.948454   \n",
      "\n",
      "   FR_accepted_%  Score  \n",
      "0      42.857143     50  \n",
      "1      18.000000     50  \n",
      "2      42.735043     50  \n",
      "3      39.024390     50  \n",
      "4      30.714286     50  \n",
      "5      32.432432     50  \n",
      "6      22.093023     50  \n",
      "7      15.094340     50  \n",
      "8      24.183007     50  \n",
      "9      34.693878     50  \n"
     ]
    }
   ],
   "source": [
    "data['Score'] = np.random.randint(50,51, data.shape[0])\n",
    "print(data.head(10))"
   ]
  },
  {
   "cell_type": "code",
   "execution_count": 88,
   "metadata": {},
   "outputs": [
    {
     "name": "stdout",
     "output_type": "stream",
     "text": [
      "                 id  post_given         like      comment     dislike  \\\n",
      "count  4.620000e+02  462.000000   462.000000   462.000000  462.000000   \n",
      "mean   7.909355e+15   15.393939   195.658009   154.675325   45.413420   \n",
      "std    3.969383e+15   40.161612   237.471487   187.080338   78.424232   \n",
      "min    6.007133e+11    1.000000     0.000000     0.000000    0.000000   \n",
      "25%    1.010014e+16    2.000000    53.250000    29.250000    3.000000   \n",
      "50%    1.015716e+16    6.000000   122.500000    88.500000   13.000000   \n",
      "75%    1.020931e+16   13.000000   236.000000   194.000000   45.000000   \n",
      "max    1.021408e+16  672.000000  1839.000000  1155.000000  453.000000   \n",
      "\n",
      "       FR_allowed_%  FR_accepted_%  Score  \n",
      "count    462.000000     462.000000  462.0  \n",
      "mean      34.877568      32.456893   50.0  \n",
      "std       16.466545      16.498782    0.0  \n",
      "min        8.287293       8.163265   50.0  \n",
      "25%       21.971889      20.000000   50.0  \n",
      "50%       32.031153      29.763674   50.0  \n",
      "75%       45.317568      41.039992   50.0  \n",
      "max       95.714286      88.311688   50.0  \n"
     ]
    }
   ],
   "source": [
    "print(data.describe())"
   ]
  },
  {
   "cell_type": "code",
   "execution_count": null,
   "metadata": {},
   "outputs": [],
   "source": []
  },
  {
   "cell_type": "code",
   "execution_count": 89,
   "metadata": {},
   "outputs": [],
   "source": [
    "data.loc[data['like'].lt(data['like'].mean()), 'Score'] += 10           #if user LIKE GIVEN and LIKE GOT is both 'HIGH' inscrease by 10\n",
    "data.loc[data['comment'].lt(data['comment'].mean()), 'Score'] += 10     #if user COMMENT GIVEN and COMMENT GOT is both 'HIGH' inscrease by 10\n",
    "data.loc[data['dislike'].gt(data['dislike'].mean()), 'Score'] -= 10     #if user DISLIKE GIVEN and DISLIKE GOT is both 'LOW' decrease by 10\n",
    "data.loc[data['FR_allowed_%'].gt(30), 'Score'] += 10                    #if user have ALLOWED more than 45% of the friend request increase by 10\n",
    "data.loc[data['FR_accepted_%'].gt(30), 'Score'] += 10                   #if user's more than 30% of the friend request have been accepted by other than increase by 10\n",
    "data.loc[data['like'].gt(data['like'].mean()*2), 'Score'] -= 5          #if user LIKE GIVEN and LIKE GOT is both 'VERY-LOW' decrease by 5\n",
    "data.loc[data['comment'].gt(data['comment'].mean()*2), 'Score'] -= 5    #if user COMMENT GIVEN and COMMENT GOT is both 'VERY-LOW' decrease by 5\n",
    "data.loc[data['like'].lt(data['like'].mean()/2), 'Score'] += 5          #if user LIKE GIVEN and LIKE GOT is both 'VERY-HIGH' increase by 5\n",
    "data.loc[data['comment'].lt(data['comment'].mean()/2), 'Score'] += 5    #if user COMMENT GIVEN and COMMENT GOT is both 'VERY-HIGH' increase by 5\n",
    "data.loc[data['FR_allowed_%'].lt(10), 'Score'] -= 5                     #if user have ALLOWED less than 10% of the friend request decrease by 5\n",
    "data.loc[data['FR_accepted_%'].lt(10), 'Score'] -= 5                    #if user's less than 10% of the friend request have been accepted by other than decrease by 5\n",
    "data.loc[data['post_given'].gt(data['post_given'].mean()), 'Score'] += 10           #if user's number of  POST uploaded is  'HIGH' inscrease by 10\n",
    "data.loc[data['post_given'].lt(data['post_given'].mean()/2), 'Score'] -= 5          #if user's number of  POST uploaded is  'VERY-LESS' decrease by 5\n",
    "data.loc[data['post_given'].gt(data['post_given'].mean()*2), 'Score'] += 5          #if user's number of  POST uploaded is  'VERY-HIGH' increase by 5"
   ]
  },
  {
   "cell_type": "code",
   "execution_count": 90,
   "metadata": {},
   "outputs": [
    {
     "name": "stdout",
     "output_type": "stream",
     "text": [
      "                 id  post_given  like  comment  dislike  FR_allowed_%  \\\n",
      "0      600713259593           8   139       10       22     55.319149   \n",
      "1      660791208540           3   117       48        9     31.884058   \n",
      "2      761834491936           1   136       53       16     35.576923   \n",
      "3      826937429318           4   127      140      240     53.508772   \n",
      "4      827039654412          32    39      164        0     43.243243   \n",
      "5      941481412107           1   145       85        0     63.829787   \n",
      "6      970542134341           3   231       11       16     28.888889   \n",
      "7     1156118278335           4   374      321       10     52.475248   \n",
      "8     1461194825071           3   120      131        1     20.289855   \n",
      "9   106025446643853          14    78       11       49     64.948454   \n",
      "10  110325072905948          21   246      380      347     25.827815   \n",
      "11  121030311792618          72   707       36       22     43.150685   \n",
      "12  130060857540902          19    64       61       25     42.236025   \n",
      "13  214744722303600           2    56      108        1     43.137255   \n",
      "14  221918521538905           7    78       81        4     31.496063   \n",
      "15  268157320233749           1    33        4        0     10.215054   \n",
      "16  317515445253669          38   512      401       23     10.526316   \n",
      "17  318444081836267          18   703      593      332     14.388489   \n",
      "18  320074584994912           6   240       49        1     23.728814   \n",
      "19  418460035218785           6    40        7        0      8.900524   \n",
      "\n",
      "    FR_accepted_%  Score  \n",
      "0       42.857143     95  \n",
      "1       18.000000     80  \n",
      "2       42.735043     90  \n",
      "3       39.024390     75  \n",
      "4       30.714286    100  \n",
      "5       32.432432     85  \n",
      "6       22.093023     60  \n",
      "7       15.094340     50  \n",
      "8       24.183007     65  \n",
      "9       34.693878     90  \n",
      "10      12.209302     45  \n",
      "11      24.358974     85  \n",
      "12      70.270270    110  \n",
      "13      16.393443     80  \n",
      "14      42.735043     90  \n",
      "15      20.903955     75  \n",
      "16      11.111111     55  \n",
      "17      42.857143     50  \n",
      "18      10.989011     60  \n",
      "19      57.534247     80  \n"
     ]
    }
   ],
   "source": [
    "print(data.head(20))"
   ]
  },
  {
   "cell_type": "code",
   "execution_count": 91,
   "metadata": {},
   "outputs": [],
   "source": [
    "data=data.sort_values(by=['Score'], ascending=[False])\n",
    "data.loc[data['Score'].gt(100), 'Class'] = 'A'\n",
    "data.loc[data['Score'].eq(100), 'Class'] = 'A'\n",
    "data.loc[data['Score'].lt(100), 'Class'] = 'B'\n",
    "data.loc[data['Score'].lt(80), 'Class'] = 'C'\n",
    "data.loc[data['Score'].lt(60), 'Class'] = 'D'\n",
    "data.loc[data['Score'].lt(40), 'Class'] = 'E'"
   ]
  },
  {
   "cell_type": "code",
   "execution_count": 92,
   "metadata": {},
   "outputs": [
    {
     "name": "stdout",
     "output_type": "stream",
     "text": [
      "                    id  post_given  like  comment  dislike  FR_allowed_%  \\\n",
      "231  10157167304705363          36    56      109        3     44.805195   \n",
      "336  10209088054051380          21    41       17        4     44.800000   \n",
      "185  10154356942861445          44   161       10        4     40.243902   \n",
      "12     130060857540902          19    64       61       25     42.236025   \n",
      "315  10208687433534822          29    62       21        8     30.051813   \n",
      "\n",
      "     FR_accepted_%  Score Class  \n",
      "231      46.969697    110     A  \n",
      "336      42.622951    110     A  \n",
      "185      41.025641    110     A  \n",
      "12       70.270270    110     A  \n",
      "315      41.875000    110     A  \n"
     ]
    }
   ],
   "source": [
    "print(data.head())"
   ]
  },
  {
   "cell_type": "code",
   "execution_count": 93,
   "metadata": {},
   "outputs": [
    {
     "name": "stdout",
     "output_type": "stream",
     "text": [
      "Number of User in Class A \n",
      "25\n",
      "Number of User in Class B \n",
      "192\n",
      "Number of User in Class C \n",
      "159\n",
      "Number of User in Class D \n",
      "70\n",
      "Number of User in Class E \n",
      "16\n"
     ]
    }
   ],
   "source": [
    "Class_A = data[data.Class == 'A']['Class'].count()\n",
    "print('Number of User in Class A ')\n",
    "print(Class_A)\n",
    "\n",
    "Class_B = data[data.Class == 'B']['Class'].count()\n",
    "print('Number of User in Class B ')\n",
    "print(Class_B)\n",
    "\n",
    "Class_C = data[data.Class == 'C']['Class'].count()\n",
    "print('Number of User in Class C ')\n",
    "print(Class_C)\n",
    "\n",
    "Class_D = data[data.Class == 'D']['Class'].count()\n",
    "print('Number of User in Class D ')\n",
    "print(Class_D)\n",
    "\n",
    "Class_E = data[data.Class == 'E']['Class'].count()\n",
    "print('Number of User in Class E ')\n",
    "print(Class_E)"
   ]
  },
  {
   "cell_type": "code",
   "execution_count": null,
   "metadata": {},
   "outputs": [],
   "source": []
  },
  {
   "cell_type": "code",
   "execution_count": null,
   "metadata": {},
   "outputs": [],
   "source": []
  }
 ],
 "metadata": {
  "kernelspec": {
   "display_name": "Python 3",
   "language": "python",
   "name": "python3"
  },
  "language_info": {
   "codemirror_mode": {
    "name": "ipython",
    "version": 3
   },
   "file_extension": ".py",
   "mimetype": "text/x-python",
   "name": "python",
   "nbconvert_exporter": "python",
   "pygments_lexer": "ipython3",
   "version": "3.7.2"
  }
 },
 "nbformat": 4,
 "nbformat_minor": 2
}
